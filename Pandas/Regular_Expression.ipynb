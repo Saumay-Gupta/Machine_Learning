{
 "cells": [
  {
   "cell_type": "code",
   "execution_count": 1,
   "id": "0b7945d0-9521-48db-8886-1706847bc32c",
   "metadata": {},
   "outputs": [],
   "source": [
    "import re"
   ]
  },
  {
   "cell_type": "code",
   "execution_count": 2,
   "id": "3692608d-844e-4c1c-b0b5-151d7a188356",
   "metadata": {},
   "outputs": [
    {
     "data": {
      "text/plain": [
       "'The gross cost of operating lease vehicles in FY2021 Q1 is $4.85 Billion .\\nIn previous quater i.e FY2020 Q4 it was $3 Billion .'"
      ]
     },
     "execution_count": 2,
     "metadata": {},
     "output_type": "execute_result"
    }
   ],
   "source": [
    "text='''The gross cost of operating lease vehicles in FY2021 Q1 is $4.85 Billion .\n",
    "In previous quater i.e FY2020 Q4 it was $3 Billion .'''\n",
    "text"
   ]
  },
  {
   "cell_type": "code",
   "execution_count": 7,
   "id": "af81eb36-c77a-45ec-a0d6-9064409f207c",
   "metadata": {},
   "outputs": [
    {
     "name": "stderr",
     "output_type": "stream",
     "text": [
      "<>:1: SyntaxWarning: invalid escape sequence '\\d'\n",
      "<>:1: SyntaxWarning: invalid escape sequence '\\d'\n",
      "C:\\Users\\sauma\\AppData\\Local\\Temp\\ipykernel_23716\\1104084518.py:1: SyntaxWarning: invalid escape sequence '\\d'\n",
      "  pattern = 'FY\\d{4} Q\\d' # Use website \"Regular Expression 101\" to create regular expression..\n"
     ]
    },
    {
     "data": {
      "text/plain": [
       "['FY2021 Q1', 'FY2020 Q4']"
      ]
     },
     "execution_count": 7,
     "metadata": {},
     "output_type": "execute_result"
    }
   ],
   "source": [
    "pattern = 'FY\\d{4} Q\\d' # Use website \"Regular Expression 101\" to create regular expression..\n",
    "matches = re.findall(pattern,text)\n",
    "matches"
   ]
  },
  {
   "cell_type": "code",
   "execution_count": 13,
   "id": "02ed1829-cb84-4add-ac15-0f6ab2c85cfe",
   "metadata": {},
   "outputs": [
    {
     "name": "stderr",
     "output_type": "stream",
     "text": [
      "<>:9: SyntaxWarning: invalid escape sequence '\\/'\n",
      "<>:9: SyntaxWarning: invalid escape sequence '\\/'\n",
      "C:\\Users\\sauma\\AppData\\Local\\Temp\\ipykernel_23716\\3945105574.py:9: SyntaxWarning: invalid escape sequence '\\/'\n",
      "  pattern = 'https:\\/\\/twitter\\.com\\/([a-zA-Z0-9_]+)'\n"
     ]
    },
    {
     "data": {
      "text/plain": [
       "('elonmusk',)"
      ]
     },
     "execution_count": 13,
     "metadata": {},
     "output_type": "execute_result"
    }
   ],
   "source": [
    "text = '''\n",
    "Follow our leader Elon musk on twitter here: https://twitter.com/elonmusk, more information \n",
    "on Tesla's products can be found at https://www.tesla.com/. Also here are leading influencers \n",
    "for tesla related news,\n",
    "https://twitter.com/teslarati\n",
    "https://twitter.com/dummy_tesla\n",
    "https://twitter.com/dummy_2_tesla\n",
    "'''\n",
    "pattern = 'https:\\/\\/twitter\\.com\\/([a-zA-Z0-9_]+)' \n",
    "matches = re.search(pattern, text) # .search() is used to find the first occurence of pattern..\n",
    "matches.groups()"
   ]
  },
  {
   "cell_type": "code",
   "execution_count": null,
   "id": "2fbaf69a-39a3-45ad-876a-0945fd2591cc",
   "metadata": {},
   "outputs": [],
   "source": []
  }
 ],
 "metadata": {
  "kernelspec": {
   "display_name": "Python 3 (ipykernel)",
   "language": "python",
   "name": "python3"
  },
  "language_info": {
   "codemirror_mode": {
    "name": "ipython",
    "version": 3
   },
   "file_extension": ".py",
   "mimetype": "text/x-python",
   "name": "python",
   "nbconvert_exporter": "python",
   "pygments_lexer": "ipython3",
   "version": "3.12.6"
  }
 },
 "nbformat": 4,
 "nbformat_minor": 5
}
